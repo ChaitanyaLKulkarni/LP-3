{
  "nbformat": 4,
  "nbformat_minor": 0,
  "metadata": {
    "colab": {
      "name": "ML_assign2.ipynb",
      "provenance": [],
      "collapsed_sections": []
    },
    "kernelspec": {
      "name": "python3",
      "display_name": "Python 3"
    },
    "language_info": {
      "name": "python"
    }
  },
  "cells": [
    {
      "cell_type": "code",
      "execution_count": 2,
      "metadata": {
        "colab": {
          "base_uri": "https://localhost:8080/"
        },
        "id": "5FjKz3GMp_kB",
        "outputId": "12e3cd2e-f544-4bb4-eb65-151225344599"
      },
      "outputs": [
        {
          "output_type": "stream",
          "name": "stdout",
          "text": [
            "    id  age  income  gender  marital_status\n",
            "0    0    1       0       1               1\n",
            "1    1    1       0       1               0\n",
            "2    2    0       0       1               1\n",
            "3    3    2       2       1               1\n",
            "4    4    2       1       0               1\n",
            "5    5    2       1       0               0\n",
            "6    6    0       1       0               0\n",
            "7    7    1       2       1               1\n",
            "8    8    1       1       0               0\n",
            "9    9    2       2       0               1\n",
            "10  10    1       2       0               0\n",
            "11  11    0       2       1               0\n",
            "12  12    0       0       0               1\n",
            "13  13    2       2       1               0\n",
            "['Yes']\n"
          ]
        },
        {
          "output_type": "stream",
          "name": "stderr",
          "text": [
            "/usr/local/lib/python3.7/dist-packages/sklearn/base.py:451: UserWarning: X does not have valid feature names, but DecisionTreeClassifier was fitted with feature names\n",
            "  \"X does not have valid feature names, but\"\n"
          ]
        },
        {
          "output_type": "execute_result",
          "data": {
            "text/plain": [
              "True"
            ]
          },
          "metadata": {},
          "execution_count": 2
        }
      ],
      "source": [
        "#import packages\n",
        "import pandas as pd\n",
        "import numpy as np\n",
        "\n",
        "# Read dataset\n",
        "dataset=pd.read_csv(\"/content/tree1.csv\")\n",
        "\n",
        "x=dataset.iloc[:,:-1]\n",
        "y=dataset.iloc[:,5]\n",
        "\n",
        "#Label encoder\n",
        "from sklearn.preprocessing import LabelEncoder\n",
        "le=LabelEncoder()\n",
        "x=x.apply(le.fit_transform)\n",
        "print(x)\n",
        "\n",
        "# 1 1 0 0\n",
        "\n",
        "#import Decesion Tree Classifier\n",
        "\n",
        "from sklearn.tree import DecisionTreeClassifier\n",
        "# Create decision tree classifer object\n",
        "regressor=DecisionTreeClassifier()\n",
        "# Train model\n",
        "regressor.fit(x.iloc[:,1:5],y)\n",
        "\n",
        "x_in=np.array([1,1,0,0])\n",
        "y_pred=regressor.predict([x_in])\n",
        "\n",
        "print(y_pred)\n",
        "\n",
        "from six import StringIO\n",
        "#from IPython.display import Image\n",
        "from sklearn.tree import export_graphviz\n",
        "import pydotplus\n",
        "\n",
        "dot_data=StringIO()\n",
        "export_graphviz(regressor,out_file=dot_data,filled=True,rounded=True,special_characters=True)\n",
        "\n",
        "#Draw Graph\n",
        "graph=pydotplus.graph_from_dot_data(dot_data.getvalue())\n",
        "\n",
        "# Show graph & Create png File\n",
        "graph.write_png(\"tree.png\")\n",
        "\n",
        "# see the tree in .spyder3 folder\n",
        "\n",
        "\n",
        "\n",
        "\n",
        "\n",
        "\n",
        "\n",
        "\n",
        "\n",
        "\n",
        "\n",
        "\n",
        "\n",
        "\n"
      ]
    },
    {
      "cell_type": "code",
      "source": [
        ""
      ],
      "metadata": {
        "id": "iHEZzcdbqWNf"
      },
      "execution_count": null,
      "outputs": []
    }
  ]
}