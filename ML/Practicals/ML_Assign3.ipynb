{
  "cells": [
    {
      "cell_type": "code",
      "execution_count": 3,
      "metadata": {
        "colab": {
          "base_uri": "https://localhost:8080/"
        },
        "id": "_j26L7i7204s",
        "outputId": "1a14c141-a2c9-4b21-fc35-2f32887fdd20"
      },
      "outputs": [
        {
          "name": "stdout",
          "output_type": "stream",
          "text": [
            "['negative']\n",
            "['negative']\n"
          ]
        }
      ],
      "source": [
        "#import the packages\n",
        "import pandas as pd\n",
        "import numpy as np\n",
        "\n",
        "#Read dataset\n",
        "dataset=pd.read_csv(\"../Practice/ML-3-data.csv\")\n",
        "X=dataset.iloc[:,:-1].values\n",
        "y=dataset.iloc[:,2].values\n",
        "\n",
        "#import KNeighborshood Classifier and create object of it\n",
        "from sklearn.neighbors import KNeighborsClassifier\n",
        "\n",
        "#Creating model\n",
        "classifier=KNeighborsClassifier(n_neighbors=3)\n",
        "# Training model\n",
        "classifier.fit(X,y)\n",
        "\n",
        "#predict the class for the point(6,6)\n",
        "X_test=np.array([6,6])\n",
        "# Predictions for test data\n",
        "y_pred=classifier.predict([X_test])\n",
        "print(y_pred)\n",
        "\n",
        "# KNeighborsClassifier looks for the 5 nearest neighbors\n",
        "#If set to uniform, all points in each neighbourhood have \n",
        "#equal influence in predicting class i.e. predicted class is the class with highest number of points in the neighbourhood.\n",
        "classifier=KNeighborsClassifier(n_neighbors=3,weights='uniform')\n",
        "classifier.fit(X,y)\n",
        "\n",
        "#predict the class for the point(6,6)\n",
        "X_test=np.array([6,2])\n",
        "y_pred=classifier.predict([X_test])\n",
        "print(y_pred)"
      ]
    },
    {
      "cell_type": "code",
      "execution_count": null,
      "metadata": {
        "id": "5Y7uCsww2-0E"
      },
      "outputs": [],
      "source": [
        "import matplotlib.pyplot as plt"
      ]
    },
    {
      "cell_type": "code",
      "execution_count": null,
      "metadata": {
        "colab": {
          "base_uri": "https://localhost:8080/",
          "height": 269
        },
        "id": "NT1V2_3R3r3c",
        "outputId": "b84695a3-c257-4549-d376-198ac7f2a274"
      },
      "outputs": [
        {
          "data": {
            "image/png": "[encoded data removed]",
            "text/plain": [
              "<Figure size 432x288 with 1 Axes>"
            ]
          },
          "metadata": {
            "needs_background": "light"
          },
          "output_type": "display_data"
        }
      ],
      "source": [
        "for i in range(len(X)):\n",
        "  if y[i]=='negative':\n",
        "    plt.scatter(X[i][0],X[i][1],c='orange')\n",
        "  else:\n",
        "    plt.scatter(X[i][0],X[i][1],c='b')\n",
        "plt.xlim(0,10,2)\n",
        "plt.ylim(0,10,2)\n",
        "plt.show()"
      ]
    },
    {
      "cell_type": "code",
      "execution_count": null,
      "metadata": {
        "colab": {
          "base_uri": "https://localhost:8080/"
        },
        "id": "P0zKQK064eFQ",
        "outputId": "f0a92dd8-c5d2-4d54-e290-fae033015c81"
      },
      "outputs": [
        {
          "data": {
            "text/plain": [
              "4"
            ]
          },
          "execution_count": 12,
          "metadata": {},
          "output_type": "execute_result"
        }
      ],
      "source": [
        "X[0][1]"
      ]
    },
    {
      "cell_type": "code",
      "execution_count": null,
      "metadata": {
        "colab": {
          "base_uri": "https://localhost:8080/"
        },
        "id": "zq4pVeBx4vCI",
        "outputId": "dfe7d49a-e8a5-4256-d926-5e10eae5bc50"
      },
      "outputs": [
        {
          "data": {
            "text/plain": [
              "(6,)"
            ]
          },
          "execution_count": 7,
          "metadata": {},
          "output_type": "execute_result"
        }
      ],
      "source": [
        "y.shape"
      ]
    },
    {
      "cell_type": "code",
      "execution_count": null,
      "metadata": {
        "colab": {
          "base_uri": "https://localhost:8080/"
        },
        "id": "tuUOieht4w5J",
        "outputId": "ebc51d8d-4c33-4da8-c426-1b23cd3d4ac1"
      },
      "outputs": [
        {
          "data": {
            "text/plain": [
              "array(['negative', 'negative', 'positive', 'negative', 'negative',\n",
              "       'positive'], dtype=object)"
            ]
          },
          "execution_count": 8,
          "metadata": {},
          "output_type": "execute_result"
        }
      ],
      "source": [
        "y"
      ]
    },
    {
      "cell_type": "code",
      "execution_count": null,
      "metadata": {
        "colab": {
          "base_uri": "https://localhost:8080/"
        },
        "id": "4CI5TiqU4ysX",
        "outputId": "61f74108-b6ae-4f7a-b93d-54c95a277986"
      },
      "outputs": [
        {
          "data": {
            "text/plain": [
              "array([[2, 4],\n",
              "       [4, 6],\n",
              "       [4, 4],\n",
              "       [4, 2],\n",
              "       [6, 4],\n",
              "       [6, 2]])"
            ]
          },
          "execution_count": 9,
          "metadata": {},
          "output_type": "execute_result"
        }
      ],
      "source": [
        "X"
      ]
    },
    {
      "cell_type": "code",
      "execution_count": null,
      "metadata": {
        "id": "5fULWQF842gz"
      },
      "outputs": [],
      "source": [
        "y.reshape()"
      ]
    }
  ],
  "metadata": {
    "colab": {
      "name": "ML_Assign3.ipynb",
      "provenance": []
    },
    "interpreter": {
      "hash": "08772d5e84de242cc1c78ef9100b12eb14ddb2f91d23e78474f08b07e58dc7b4"
    },
    "kernelspec": {
      "display_name": "Python 3.9.4 64-bit",
      "language": "python",
      "name": "python3"
    },
    "language_info": {
      "codemirror_mode": {
        "name": "ipython",
        "version": 3
      },
      "file_extension": ".py",
      "mimetype": "text/x-python",
      "name": "python",
      "nbconvert_exporter": "python",
      "pygments_lexer": "ipython3",
      "version": "3.9.4"
    }
  },
  "nbformat": 4,
  "nbformat_minor": 0
}
