{
  "cells": [
    {
      "cell_type": "code",
      "execution_count": 1,
      "metadata": {
        "colab": {
          "base_uri": "https://localhost:8080/",
          "height": 782
        },
        "id": "4blyDx_ltf6H",
        "outputId": "c5d5b733-2d0b-44b2-aa43-5968b76a75b8"
      },
      "outputs": [],
      "source": [
        "import numpy as np\n",
        "import matplotlib.pyplot as plt"
      ]
    },
    {
      "cell_type": "code",
      "execution_count": null,
      "metadata": {},
      "outputs": [],
      "source": [
        "plt.rcParams['figure.dpi'] = 100\n",
        "# x is number of hours spent in driving\n",
        "# y is a factor denoting possibility of acute back ache\n",
        "x = [10, 9, 2, 15, 10, 16, 11, 16]\n",
        "y = [95, 80, 10, 50, 45, 98, 38, 93]\n",
        "\n",
        "x = np.array(x)\n",
        "y = np.array(y)\n",
        "plt.xlabel(\"hours spent in driving\")\n",
        "plt.ylabel(\"acute back ache risk factor\")\n",
        "\n",
        "plt.scatter(x, y)\n",
        "plt.show()\n",
        "# execute till here in one code cell\n",
        "mean_x = np.mean(x)\n",
        "mean_y = np.mean(y)\n",
        "# Total number of values\n",
        "n = len(x)\n",
        "# Using the formula to calculate m and c\n",
        "numer = 0\n",
        "denom = 0\n",
        "for i in range(n):\n",
        "    numer += (x[i] - mean_x) * (y[i] - mean_y)\n",
        "    denom += (x[i] - mean_x) ** 2\n",
        "    m = numer / denom\n",
        "    c = mean_y - (m * mean_x)\n",
        "# execute till here in one code cell\n",
        "print(\"m = \"+str(m)+\"\\nc = \"+str(c))\n",
        "p1 = m*(0) + c  # y at x = 0\n",
        "\n",
        "p2 = m*16 + c  # y at x = 16\n",
        "x2 = np.array([0, 25])\n",
        "y2 = np.array([p1, p2])\n",
        "plt.xlabel(\"hours spent in driving\")\n",
        "plt.ylabel(\"acuteback ache risk factor\")\n",
        "plt.scatter(x, y)\n",
        "plt.plot(x2, y2)\n",
        "plt.grid()\n",
        "plt.xlim(-1, 24)\n",
        "plt.show()\n"
      ]
    },
    {
      "cell_type": "code",
      "execution_count": 17,
      "metadata": {
        "colab": {
          "base_uri": "https://localhost:8080/"
        },
        "id": "FRDFyvQStodw",
        "outputId": "9598be02-6508-40f7-a7c1-c52cf3b7d236"
      },
      "outputs": [
        {
          "data": {
            "text/plain": [
              "LinearRegression()"
            ]
          },
          "execution_count": 17,
          "metadata": {},
          "output_type": "execute_result"
        }
      ],
      "source": [
        "from sklearn.linear_model import LinearRegression\n",
        "regressor = LinearRegression()\n",
        "regressor.fit(x.reshape(-1,1),y.reshape(-1,1))"
      ]
    },
    {
      "cell_type": "code",
      "execution_count": 18,
      "metadata": {
        "colab": {
          "base_uri": "https://localhost:8080/"
        },
        "id": "EO82b2lHxFbF",
        "outputId": "35e94ee5-51a9-42a5-94fc-e6e60580d5ec"
      },
      "outputs": [
        {
          "data": {
            "text/plain": [
              "array([[35.52412101]])"
            ]
          },
          "execution_count": 18,
          "metadata": {},
          "output_type": "execute_result"
        }
      ],
      "source": [
        "regressor.predict([[5]])"
      ]
    },
    {
      "cell_type": "code",
      "execution_count": 43,
      "metadata": {
        "colab": {
          "base_uri": "https://localhost:8080/"
        },
        "id": "EdzC0QQM2Q-l",
        "outputId": "3fb82fa6-7425-48b8-e110-f4d1deb7a3da"
      },
      "outputs": [
        {
          "data": {
            "text/plain": [
              "array([10,  9,  2, 15, 10, 16, 11, 16])"
            ]
          },
          "execution_count": 43,
          "metadata": {},
          "output_type": "execute_result"
        }
      ],
      "source": [
        "x"
      ]
    },
    {
      "cell_type": "code",
      "execution_count": 19,
      "metadata": {
        "colab": {
          "base_uri": "https://localhost:8080/"
        },
        "id": "bJx6nPs2yTiT",
        "outputId": "f0548c3a-21e6-4457-ada8-0ce99597d94d"
      },
      "outputs": [
        {
          "data": {
            "text/plain": [
              "array([[10],\n",
              "       [ 9],\n",
              "       [ 2],\n",
              "       [15],\n",
              "       [10],\n",
              "       [16],\n",
              "       [11],\n",
              "       [16]])"
            ]
          },
          "execution_count": 19,
          "metadata": {},
          "output_type": "execute_result"
        }
      ],
      "source": [
        "x.reshape(-1,1)"
      ]
    },
    {
      "cell_type": "code",
      "execution_count": 31,
      "metadata": {
        "id": "RsQyl4hTzOpK"
      },
      "outputs": [],
      "source": [
        "c = regressor.intercept_[0]\n",
        "m = regressor.coef_[0][0]"
      ]
    },
    {
      "cell_type": "code",
      "execution_count": 32,
      "metadata": {
        "colab": {
          "base_uri": "https://localhost:8080/"
        },
        "id": "3vKE20LP0Ntz",
        "outputId": "2ee51f70-d121-462a-f3e1-919a4288d109"
      },
      "outputs": [
        {
          "data": {
            "text/plain": [
              "(12.584627964022907, 4.587898609975469)"
            ]
          },
          "execution_count": 32,
          "metadata": {},
          "output_type": "execute_result"
        }
      ],
      "source": [
        "c,m"
      ]
    },
    {
      "cell_type": "code",
      "execution_count": 42,
      "metadata": {
        "colab": {
          "base_uri": "https://localhost:8080/",
          "height": 362
        },
        "id": "FGe57LXQxbzw",
        "outputId": "509a8b80-1d0a-4a38-c8c2-3dc3c3d7dd55"
      },
      "outputs": [
        {
          "data": {
            "image/png": "[encoded data removed]",
            "text/plain": [
              "<Figure size 600x400 with 1 Axes>"
            ]
          },
          "metadata": {
            "needs_background": "light"
          },
          "output_type": "display_data"
        }
      ],
      "source": [
        "plt.scatter(x,y)\n",
        "#y = mx+c\n",
        "# x_ = np.linspace(0,20,8)\n",
        "x_ = np.array(list(range(20)))\n",
        "y_ = m*x_+c\n",
        "plt.plot(x_, y_, '-y')\n",
        "plt.show()"
      ]
    },
    {
      "cell_type": "code",
      "execution_count": 37,
      "metadata": {
        "colab": {
          "base_uri": "https://localhost:8080/"
        },
        "id": "bgpQO5xiy-97",
        "outputId": "e2c50cfa-6dbc-47ad-f5d8-da64c623aef9"
      },
      "outputs": [
        {
          "name": "stdout",
          "output_type": "stream",
          "text": [
            "[-5.         -3.57142857 -2.14285714 -0.71428571  0.71428571  2.14285714\n",
            "  3.57142857  5.        ] [58.46361406 53.87571545 21.76042518 81.40310711 58.46361406 85.99100572\n",
            " 63.05151267 85.99100572]\n"
          ]
        }
      ],
      "source": [
        "# x = np.linspace(-5,5,100)\n",
        "# y = m*x+c\n",
        "# plt.plot(x, y, '-y')\n",
        "\n",
        "x_ = np.linspace(-5,5,8)\n",
        "y_ = m*x+c\n",
        "print(x_,y_)"
      ]
    },
    {
      "cell_type": "code",
      "execution_count": null,
      "metadata": {
        "id": "9OPSQzhk05VF"
      },
      "outputs": [],
      "source": []
    }
  ],
  "metadata": {
    "colab": {
      "collapsed_sections": [],
      "name": "ML_Assign1.ipynb",
      "provenance": []
    },
    "interpreter": {
      "hash": "08772d5e84de242cc1c78ef9100b12eb14ddb2f91d23e78474f08b07e58dc7b4"
    },
    "kernelspec": {
      "display_name": "Python 3.9.4 64-bit",
      "language": "python",
      "name": "python3"
    },
    "language_info": {
      "codemirror_mode": {
        "name": "ipython",
        "version": 3
      },
      "file_extension": ".py",
      "mimetype": "text/x-python",
      "name": "python",
      "nbconvert_exporter": "python",
      "pygments_lexer": "ipython3",
      "version": "3.9.4"
    }
  },
  "nbformat": 4,
  "nbformat_minor": 0
}
