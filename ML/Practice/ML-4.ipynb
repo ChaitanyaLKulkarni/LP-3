{
 "cells": [
  {
   "cell_type": "code",
   "execution_count": 1,
   "metadata": {},
   "outputs": [],
   "source": [
    "import numpy as np\n",
    "import matplotlib.pyplot as plt"
   ]
  },
  {
   "cell_type": "code",
   "execution_count": 2,
   "metadata": {},
   "outputs": [],
   "source": [
    "points = [(0.1,0.6),(0.15,0.71), (0.08,0.9), (0.16,0.85), (0.2,0.3), (0.25,0.5), (0.24,0.1), (0.3,0.2)]\n",
    "\n",
    "x = np.array([p[0] for p in points])\n",
    "y = np.array([p[1] for p in points])"
   ]
  },
  {
   "cell_type": "code",
   "execution_count": 3,
   "metadata": {},
   "outputs": [
    {
     "data": {
      "image/png": "[encoded data removed]",
      "text/plain": [
       "<Figure size 432x288 with 1 Axes>"
      ]
     },
     "metadata": {
      "needs_background": "light"
     },
     "output_type": "display_data"
    }
   ],
   "source": [
    "plt.scatter(x,y)\n",
    "plt.show()"
   ]
  },
  {
   "cell_type": "code",
   "execution_count": 4,
   "metadata": {},
   "outputs": [
    {
     "data": {
      "text/plain": [
       "KMeans(n_clusters=2, random_state=0)"
      ]
     },
     "execution_count": 4,
     "metadata": {},
     "output_type": "execute_result"
    }
   ],
   "source": [
    "from sklearn.cluster import KMeans\n",
    "model = KMeans(n_clusters=2,random_state=0)\n",
    "model.fit(np.array(list(zip(x,y))))"
   ]
  },
  {
   "cell_type": "code",
   "execution_count": 5,
   "metadata": {},
   "outputs": [
    {
     "name": "stdout",
     "output_type": "stream",
     "text": [
      "P6 belongs to: 0\n",
      "(0.1,\t0.6):\t1\n",
      "(0.15,\t0.71):\t1\n",
      "(0.08,\t0.9):\t1\n",
      "(0.16,\t0.85):\t1\n",
      "(0.2,\t0.3):\t0\n",
      "(0.25,\t0.5):\t0\n",
      "(0.24,\t0.1):\t0\n",
      "(0.3,\t0.2):\t0\n"
     ]
    }
   ],
   "source": [
    "print(\"P6 belongs to:\",model.labels_[5])\n",
    "for _x,_y,label in zip(x,y,model.labels_):\n",
    "    print(f\"({_x},\\t{_y}):\\t{label}\")"
   ]
  },
  {
   "cell_type": "code",
   "execution_count": 6,
   "metadata": {},
   "outputs": [
    {
     "data": {
      "text/plain": [
       "<matplotlib.collections.PathCollection at 0x221d7b13cd0>"
      ]
     },
     "execution_count": 6,
     "metadata": {},
     "output_type": "execute_result"
    },
    {
     "data": {
      "image/png": "[encoded data removed]",
      "text/plain": [
       "<Figure size 432x288 with 1 Axes>"
      ]
     },
     "metadata": {
      "needs_background": "light"
     },
     "output_type": "display_data"
    }
   ],
   "source": [
    "plt.scatter(x,y)\n",
    "plt.scatter(model.cluster_centers_[0][0],model.cluster_centers_[0][1],c=\"r\",marker=\"*\")\n",
    "plt.scatter(model.cluster_centers_[1][0],model.cluster_centers_[1][1],c=\"r\",marker=\"*\")"
   ]
  },
  {
   "cell_type": "code",
   "execution_count": 7,
   "metadata": {},
   "outputs": [
    {
     "data": {
      "image/png": "[encoded data removed]",
      "text/plain": [
       "<Figure size 432x288 with 1 Axes>"
      ]
     },
     "metadata": {
      "needs_background": "light"
     },
     "output_type": "display_data"
    }
   ],
   "source": [
    "for _x,_y,_label in zip(x,y,model.labels_):\n",
    "    plt.scatter(_x,_y,c=[\"r\",\"b\"][_label])\n",
    "plt.scatter(model.cluster_centers_[0][0],model.cluster_centers_[0][1],c=\"r\",marker=\"*\")\n",
    "plt.scatter(model.cluster_centers_[1][0],model.cluster_centers_[1][1],c=\"b\",marker=\"*\")\n",
    "plt.show()"
   ]
  }
 ],
 "metadata": {
  "interpreter": {
   "hash": "08772d5e84de242cc1c78ef9100b12eb14ddb2f91d23e78474f08b07e58dc7b4"
  },
  "kernelspec": {
   "display_name": "Python 3.9.4 64-bit",
   "language": "python",
   "name": "python3"
  },
  "language_info": {
   "codemirror_mode": {
    "name": "ipython",
    "version": 3
   },
   "file_extension": ".py",
   "mimetype": "text/x-python",
   "name": "python",
   "nbconvert_exporter": "python",
   "pygments_lexer": "ipython3",
   "version": "3.9.4"
  },
  "orig_nbformat": 4
 },
 "nbformat": 4,
 "nbformat_minor": 2
}
